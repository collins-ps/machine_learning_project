{
 "cells": [
  {
   "cell_type": "markdown",
   "metadata": {},
   "source": [
    "# Creating Dataframe of Outcome and Feature Variables"
   ]
  },
  {
   "cell_type": "code",
   "execution_count": 105,
   "metadata": {},
   "outputs": [
    {
     "name": "stdout",
     "output_type": "stream",
     "text": [
      "            GEOID  YEAR  house_value   CZA  CZH   CZV          TRF   EDU  MHI  \\\n",
      "0     17031100100  2016       267200   5.0  0.0  10.0   605.408171  29.3  NaN   \n",
      "1     17031100200  2016       280300   5.0  0.0   9.0   152.776736  34.8  NaN   \n",
      "2     17031100300  2016       339600   6.0  0.0   6.0  1223.176635  26.8  NaN   \n",
      "3     17031100400  2016       327700   0.0  0.0   0.0  1865.990705  17.9  NaN   \n",
      "4     17031100500  2016       317200   1.0  0.0   4.0  1962.186822  27.5  NaN   \n",
      "...           ...   ...          ...   ...  ...   ...          ...   ...  ...   \n",
      "2552  17031843500  2019       178700  18.0  0.0  19.0    59.800037  19.7  NaN   \n",
      "2553  17031843600  2019       266500   4.0  1.0  38.0   117.703178  27.3  NaN   \n",
      "2554  17031843700  2019       499700   9.0  0.0   8.0  1446.135953  17.6  NaN   \n",
      "2555  17031843800  2019       171900  47.0  0.0  13.0   358.570786  12.6  NaN   \n",
      "2556  17031843900  2019       105700   9.0  0.0  83.0   678.758602  16.9  NaN   \n",
      "\n",
      "      perc_below_poverty  perc_rental_housing  unemployment  \n",
      "0                    9.5             0.329078          10.6  \n",
      "1                    5.5             0.293510           5.1  \n",
      "2                    8.5             0.316569           5.0  \n",
      "3                    4.4             0.040783           6.0  \n",
      "4                    3.8             0.107461           0.5  \n",
      "...                  ...                  ...           ...  \n",
      "2552                 4.2             0.195116           2.1  \n",
      "2553                16.4             0.539491           3.0  \n",
      "2554                 7.2             0.139114           3.4  \n",
      "2555                13.9             0.364656           9.2  \n",
      "2556                24.7             0.588398           1.0  \n",
      "\n",
      "[2557 rows x 12 columns]\n"
     ]
    },
    {
     "name": "stderr",
     "output_type": "stream",
     "text": [
      "/Library/Frameworks/Python.framework/Versions/3.7/lib/python3.7/site-packages/numpy/lib/nanfunctions.py:1117: RuntimeWarning: Mean of empty slice\n",
      "  return np.nanmean(a, axis, out=out, keepdims=keepdims)\n"
     ]
    }
   ],
   "source": [
    "from statistics import median\n",
    "import pandas as pd\n",
    "import sklearn\n",
    "from sklearn.model_selection import train_test_split\n",
    "import numpy as np\n",
    "import os\n",
    "import matplotlib as mpl\n",
    "\n",
    "feature_list_xlsx = [\"CZA\",\"CZH\",\"CZV\",\"TRF\"]\n",
    "feature_list_csv = [\"EDU\",\"MHI\",\"perc_below_poverty\", \"perc_rental_housing\",\"unemployment\"]\n",
    "feature_list = feature_list_csv + feature_list_xlsx\n",
    "path = os.path.join(os.getcwd(),'data')\n",
    "feature_values = pd.read_excel(os.path.join(path,'TRF_2016.xlsx'))\n",
    "geoid = feature_values['GEOID']\n",
    "dataframes = {}\n",
    "\n",
    "# Read in feature values\n",
    "for year in range(2016, 2020):\n",
    "    df_dict = {}\n",
    "    df_dict['GEOID'] = geoid\n",
    "    df_dict['YEAR'] = year\n",
    "    for feature in feature_list_xlsx:\n",
    "        file_name = feature + \"_\" + str(year) + '.xlsx'\n",
    "        feature_values = pd.read_excel(os.path.join(path,file_name))\n",
    "        df_dict[feature] = feature_values[file_name[:-5]]\n",
    "    for feature in feature_list_csv:\n",
    "        file_name = feature + \"_\" + str(year) + '.csv'\n",
    "        feature_values = pd.read_csv(os.path.join(path,file_name))\n",
    "        df_dict[feature] = feature_values[file_name[:-4]]\n",
    "    dataframes[year] = pd.DataFrame(df_dict)\n",
    "\n",
    "feature_values = pd.concat(dataframes.values(), ignore_index=True)\n",
    "feature_values = feature_values.apply(pd.to_numeric, errors='coerce')\n",
    "\n",
    "# Replace missing feature values with column averages (median) # CHECK IF WE SHOULD MOVE THIS TO AFTER THE SPLIT\n",
    "for feature in feature_list:\n",
    "    col_ave = feature_values[feature].median()\n",
    "    feature_values[feature].fillna(value = col_ave, inplace = True)\n",
    "\n",
    "# Read in house values\n",
    "house_values = pd.read_csv(os.path.join(path,'home_value.csv'))\n",
    "renamed_geoid = []\n",
    "for row in house_values['GEOID']:\n",
    "    tract_num = (row.split(',')[0]).replace(\"Census Tract \",'')\n",
    "    if ('.' in tract_num):\n",
    "        tract_num = '17031' + tract_num.replace('.','')\n",
    "    else:\n",
    "        tract_num = '17031' + tract_num + '00'\n",
    "    renamed_geoid.append(int(tract_num))\n",
    "house_values['GEOID'] = renamed_geoid\n",
    "\n",
    "# Create dataframe of feature and outcome values\n",
    "df = pd.merge(house_values, feature_values, on=['YEAR','GEOID'])\n",
    "print(df)"
   ]
  },
  {
   "cell_type": "markdown",
   "metadata": {},
   "source": [
    "# Summary Statistics"
   ]
  },
  {
   "cell_type": "code",
   "execution_count": 106,
   "metadata": {},
   "outputs": [
    {
     "name": "stdout",
     "output_type": "stream",
     "text": [
      "   YEAR  house_value  CZA  CZH   CZV          TRF   EDU  MHI  \\\n",
      "0     0       267200  5.0  0.0  10.0   605.408171  29.3  NaN   \n",
      "1     0       280300  5.0  0.0   9.0   152.776736  34.8  NaN   \n",
      "2     0       339600  6.0  0.0   6.0  1223.176635  26.8  NaN   \n",
      "3     0       327700  0.0  0.0   0.0  1865.990705  17.9  NaN   \n",
      "4     0       317200  1.0  0.0   4.0  1962.186822  27.5  NaN   \n",
      "\n",
      "   perc_below_poverty  perc_rental_housing  unemployment  \n",
      "0                 9.5             0.329078          10.6  \n",
      "1                 5.5             0.293510           5.1  \n",
      "2                 8.5             0.316569           5.0  \n",
      "3                 4.4             0.040783           6.0  \n",
      "4                 3.8             0.107461           0.5  \n",
      "              YEAR    house_value          CZA          CZH          CZV  \\\n",
      "count  2557.000000    2557.000000  2557.000000  2557.000000  2557.000000   \n",
      "mean      1.497067  226160.344153    19.554947     0.935862    36.908878   \n",
      "std       1.118424  116980.171833    18.823739     1.527971    33.346217   \n",
      "min       0.000000   49600.000000     0.000000     0.000000     0.000000   \n",
      "25%       0.000000  140900.000000     6.000000     0.000000    13.000000   \n",
      "50%       1.000000  190200.000000    13.000000     0.000000    26.000000   \n",
      "75%       2.000000  282200.000000    27.000000     1.000000    51.000000   \n",
      "max       3.000000  745000.000000   134.000000    11.000000   210.000000   \n",
      "\n",
      "                TRF          EDU  MHI  perc_below_poverty  \\\n",
      "count   2557.000000  2557.000000  0.0         2557.000000   \n",
      "mean    1380.731268    26.899452  NaN           19.932264   \n",
      "std     2751.003423    14.462056  NaN           13.849369   \n",
      "min        2.457585     0.000000  NaN            0.300000   \n",
      "25%       57.924194    17.900000  NaN            8.200000   \n",
      "50%      373.427728    24.100000  NaN           17.600000   \n",
      "75%     1118.399889    31.600000  NaN           28.800000   \n",
      "max    23996.655900    99.200000  NaN           73.700000   \n",
      "\n",
      "       perc_rental_housing  unemployment  \n",
      "count          2557.000000   2557.000000  \n",
      "mean              0.481067     11.548885  \n",
      "std               0.234586      9.050621  \n",
      "min               0.007819      0.000000  \n",
      "25%               0.280952      4.700000  \n",
      "50%               0.511304      8.500000  \n",
      "75%               0.668161     16.300000  \n",
      "max               0.980132     53.800000  \n",
      "YEAR                     int64\n",
      "house_value              int64\n",
      "CZA                    float64\n",
      "CZH                    float64\n",
      "CZV                    float64\n",
      "TRF                    float64\n",
      "EDU                    float64\n",
      "MHI                    float64\n",
      "perc_below_poverty     float64\n",
      "perc_rental_housing    float64\n",
      "unemployment           float64\n",
      "dtype: object\n"
     ]
    },
    {
     "name": "stderr",
     "output_type": "stream",
     "text": [
      "/Library/Frameworks/Python.framework/Versions/3.7/lib/python3.7/site-packages/ipykernel_launcher.py:5: FutureWarning: In a future version of pandas all arguments of DataFrame.drop except for the argument 'labels' will be keyword-only\n",
      "  \"\"\"\n"
     ]
    }
   ],
   "source": [
    "# feature_list = [\"CZV\", \"TRF\"] # remove this later\n",
    "# outcome_feature_list = ['house_value'] + feature_list\n",
    "# df = df.loc[:,outcome_feature_list]\n",
    "\n",
    "df = df.drop('GEOID',1)\n",
    "df['YEAR'], _ = pd.factorize(df['YEAR'], sort=True)\n",
    "print(df.head())\n",
    "print(df.describe())\n",
    "print(df.dtypes)"
   ]
  },
  {
   "cell_type": "code",
   "execution_count": 107,
   "metadata": {},
   "outputs": [
    {
     "name": "stdout",
     "output_type": "stream",
     "text": [
      "YEAR                     int64\n",
      "house_value              int64\n",
      "CZA                    float64\n",
      "CZH                    float64\n",
      "CZV                    float64\n",
      "TRF                    float64\n",
      "EDU                    float64\n",
      "MHI                    float64\n",
      "perc_below_poverty     float64\n",
      "perc_rental_housing    float64\n",
      "unemployment           float64\n",
      "dtype: object\n"
     ]
    }
   ],
   "source": [
    "print(df.dtypes)"
   ]
  },
  {
   "cell_type": "markdown",
   "metadata": {},
   "source": [
    "The dataframe comprises 2557 observations, where each observation contains the median house value (outcome variable) and x feature variables for a given census tract and year.\n",
    "\n",
    "Observations with missing outcome variables were dropped from the dataframe, while missing feature values were replaced with the median value for that feature in that year."
   ]
  },
  {
   "cell_type": "code",
   "execution_count": 108,
   "metadata": {},
   "outputs": [
    {
     "data": {
      "image/png": "[encoded data removed]",
      "text/plain": [
       "<Figure size 432x288 with 12 Axes>"
      ]
     },
     "metadata": {
      "needs_background": "light"
     },
     "output_type": "display_data"
    }
   ],
   "source": [
    "%matplotlib inline\n",
    "import matplotlib.pyplot as plt\n",
    "\n",
    "df.hist()\n",
    "plt.show()"
   ]
  },
  {
   "cell_type": "markdown",
   "metadata": {},
   "source": [
    "From plotting the distribution of the feature values,  we observe that features vary significantly in scale. \n",
    "Features including CZV and TRF skew right."
   ]
  },
  {
   "cell_type": "code",
   "execution_count": 109,
   "metadata": {},
   "outputs": [
    {
     "data": {
      "text/plain": [
       "house_value            1.000000\n",
       "EDU                    0.339656\n",
       "TRF                    0.280788\n",
       "YEAR                   0.101193\n",
       "perc_rental_housing   -0.097496\n",
       "CZH                   -0.311610\n",
       "CZV                   -0.343267\n",
       "CZA                   -0.395349\n",
       "perc_below_poverty    -0.438816\n",
       "unemployment          -0.549308\n",
       "MHI                         NaN\n",
       "Name: house_value, dtype: float64"
      ]
     },
     "execution_count": 109,
     "metadata": {},
     "output_type": "execute_result"
    }
   ],
   "source": [
    "corr_matrix = df.corr()\n",
    "corr_matrix[\"house_value\"].sort_values(ascending=False)"
   ]
  },
  {
   "cell_type": "markdown",
   "metadata": {},
   "source": [
    "Add analysis on correlation between feature variables and outcome variable."
   ]
  },
  {
   "cell_type": "markdown",
   "metadata": {},
   "source": [
    "# Feature Engineering"
   ]
  },
  {
   "cell_type": "code",
   "execution_count": 110,
   "metadata": {},
   "outputs": [
    {
     "name": "stderr",
     "output_type": "stream",
     "text": [
      "/Library/Frameworks/Python.framework/Versions/3.7/lib/python3.7/site-packages/ipykernel_launcher.py:6: FutureWarning: In a future version of pandas all arguments of DataFrame.drop except for the argument 'labels' will be keyword-only\n",
      "  \n"
     ]
    }
   ],
   "source": [
    "from sklearn.model_selection import train_test_split\n",
    "from sklearn.pipeline import Pipeline\n",
    "from sklearn.preprocessing import StandardScaler\n",
    "from sklearn.impute import SimpleImputer\n",
    "\n",
    "X = df.drop('house_value', 1)\n",
    "y = df['house_value']\n",
    "\n",
    "imputer = SimpleImputer(strategy=\"median\")\n",
    "\n",
    "num_pipeline = Pipeline([\n",
    "        ('imputer', SimpleImputer(strategy=\"median\")),\n",
    "        ('std_scaler', StandardScaler()),\n",
    "    ])\n",
    "X_trans = (num_pipeline.fit_transform(X))\n",
    "\n",
    "train_x, test_x, train_y, test_y = train_test_split(X_trans, y.to_numpy(), test_size=0.2, random_state=123)\n",
    "\n",
    "# appending biases\n",
    "train_x = np.concatenate((np.ones((train_x.shape[0], 1)), train_x), axis=1)\n",
    "test_x = np.concatenate((np.ones((test_x.shape[0], 1)), test_x), axis=1)\n"
   ]
  }
 ],
 "metadata": {
  "interpreter": {
   "hash": "e534e48711db4d1e1c48977d0d14ff85b1f16d41bcc4fdfd88268a329b3c9d66"
  },
  "kernelspec": {
   "display_name": "Python 3.7.4 64-bit",
   "language": "python",
   "name": "python3"
  },
  "language_info": {
   "codemirror_mode": {
    "name": "ipython",
    "version": 3
   },
   "file_extension": ".py",
   "mimetype": "text/x-python",
   "name": "python",
   "nbconvert_exporter": "python",
   "pygments_lexer": "ipython3",
   "version": "3.7.4"
  },
  "orig_nbformat": 4
 },
 "nbformat": 4,
 "nbformat_minor": 2
}
